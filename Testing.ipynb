{
 "cells": [
  {
   "cell_type": "code",
   "execution_count": 1,
   "metadata": {},
   "outputs": [],
   "source": [
    "import csv\n",
    "from datetime import datetime"
   ]
  },
  {
   "cell_type": "code",
   "execution_count": 2,
   "metadata": {},
   "outputs": [],
   "source": [
    "class CSVWriter():\n",
    "    def __init__(self, source, destination):\n",
    "        self.i = 0\n",
    "        self.source = source\n",
    "        self.destination = destination\n",
    "        with open(self.source, mode='r', newline='') as src, open(self.destination, mode='w', newline='') as dest:\n",
    "            reader = csv.DictReader(src)\n",
    "            csv.DictWriter(dest, fieldnames=reader.fieldnames).writeheader()\n",
    "\n",
    "    def writeLine(self):\n",
    "        lineWritten = 0\n",
    "        with open(self.source, mode='r', newline='') as src, open(self.destination, mode='a', newline='') as dest:\n",
    "            reader = csv.DictReader(src)\n",
    "            writer = csv.DictWriter(dest, fieldnames=reader.fieldnames)\n",
    "            for index, row in enumerate(reader):\n",
    "                if index==self.i:\n",
    "                    writer.writerow(row)\n",
    "                    lineWritten = 1\n",
    "        self.i = self.i+1\n",
    "        if lineWritten:\n",
    "            return {\"message\": \"Data updated successfully\"}\n",
    "        else:\n",
    "            return {\"message\": \"Reached end of source file\"}\n",
    "        \n"
   ]
  },
  {
   "cell_type": "code",
   "execution_count": 101,
   "metadata": {},
   "outputs": [],
   "source": [
    "class Stock():\n",
    "    def __init__(self, name, latest):\n",
    "        self.name = name\n",
    "        self.closing_value = 1E6 # Initialize a large number, ensures initial percent is more or less 0 and avoids division by zero\n",
    "        self.latest = latest\n",
    "        #self.updated_today = 0\n",
    "        self.last_updated = datetime(year=2016, month=12, day=31).date()\n",
    "        self.percent = self.latest/self.closing_value*100\n",
    "\n",
    "    def __str__(self): # Simple 'print' function for easy debugging\n",
    "        return f'Stock: [name: {self.name}, closing_value: {self.closing_value}, latest: {self.latest},\\n last_updated: {self.last_updated}, percent: {self.percent:.2f}]'\n",
    "\n",
    "    def calc_percent(self):\n",
    "        return self.latest/self.closing_value*100-100\n",
    "    \n",
    "    def to_dict(self, *args):\n",
    "        return {key: getattr(self, key, None) for key in args}\n",
    "    \n",
    "def get_winners(stocks, number_of_winners=3):\n",
    "    sorted_stocks = sorted(stocks, key=lambda x: x.percent, reverse=True)\n",
    "    winners = []\n",
    "    for ind, win in enumerate(sorted_stocks[:number_of_winners]):\n",
    "        tmp_dict = {}\n",
    "        tmp_dict['rank'] = ind+1\n",
    "        tmp_dict.update(win.to_dict(\"name\", \"latest\", \"percent\"))\n",
    "        winners.append(tmp_dict)\n",
    "        #print(win.__dict__)\n",
    "    return winners"
   ]
  },
  {
   "cell_type": "code",
   "execution_count": 38,
   "metadata": {},
   "outputs": [],
   "source": [
    "def get_filedata(source):\n",
    "    data = []\n",
    "    stocks = []\n",
    "    with open(source, mode=\"r\") as file:\n",
    "        reader = csv.DictReader(file, delimiter=';')\n",
    "        for row in reader:\n",
    "            # Add check for the stocks here, if new kod add to 'stocks', otherwise update that stock\n",
    "            datetime_obj = datetime.strptime(row['Date'], \"%Y-%m-%d %H:%M:%S\")\n",
    "            row['twice'] = 2*int(row['Kurs'])\n",
    "            row['Day'] = datetime_obj.day\n",
    "            data.append(row)\n",
    "        #headers = next(reader)  # Skip headers if needed\n",
    "    return data"
   ]
  },
  {
   "cell_type": "code",
   "execution_count": 103,
   "metadata": {},
   "outputs": [
    {
     "name": "stdout",
     "output_type": "stream",
     "text": [
      "Updated ABB value to 218\n",
      "Updated NCC value to 123\n",
      "Updated NCC value to 121\n",
      "Updated NCC value to 121\n",
      "Updated AddLife B value to 27\n",
      "Updated NCC value to 119\n",
      "Updated ABB value to 219\n",
      "Updated ABB value to 222\n",
      "Updated NCC value to 117\n",
      "Updated NCC value to 116\n",
      "Updated 8TRA value to 225\n",
      "Updated SSAB B value to 209\n",
      "Updated AddLife B value to 38\n",
      "Updated NCC value to 116\n",
      "Updated NCC value to 118\n",
      "Updated NCC value to 121\n"
     ]
    }
   ],
   "source": [
    "data = []\n",
    "stocks = []\n",
    "with open(\"Data.csv\", mode=\"r\") as file:\n",
    "    reader = csv.DictReader(file, delimiter=';')\n",
    "    for row in reader:\n",
    "        datetime_obj = datetime.strptime(row['Date'], \"%Y-%m-%d %H:%M:%S\")\n",
    "        #row['twice'] = 2*int(row['Kurs'])\n",
    "        #row['Day'] = datetime_obj.day\n",
    "        #unique_stocks = {stock.name for stock in stocks}\n",
    "        new_stock = 1 # Track if new stock, if yes add it to stocks\n",
    "        for stock in stocks:\n",
    "            if row['Kod'] == stock.name:\n",
    "                if datetime_obj.date()>stock.last_updated:\n",
    "                    stock.closing_value = stock.latest\n",
    "                    stock.last_updated = datetime_obj.date()\n",
    "                stock.latest = int(row['Kurs'])\n",
    "                stock.percent = stock.calc_percent()\n",
    "                new_stock = 0\n",
    "                print(f\"Updated {stock.name} value to {stock.latest}\")\n",
    "        if new_stock:\n",
    "            stocks.append(Stock(name=row['Kod'], latest=int(row['Kurs'])))\n",
    "        #if row['Kod'] in unique_stocks:\n",
    "        #    a = 0\n",
    "        #else:\n",
    "        #    stocks.append(Stock(name=row['Kod'], latest=int(row['Kurs'])))\n",
    "        data.append(row)\n",
    "        #stocks.append(Stock(row['Kod']))\n",
    "winners = get_winners(stocks)"
   ]
  },
  {
   "cell_type": "code",
   "execution_count": 96,
   "metadata": {},
   "outputs": [
    {
     "name": "stdout",
     "output_type": "stream",
     "text": [
      "5\n",
      "Stock: [name: ABB, closing_value: 219, latest: 222,\n",
      " last_updated: 2017-01-02, percent: 1.37]\n",
      "Stock: [name: NCC, closing_value: 119, latest: 121,\n",
      " last_updated: 2017-01-02, percent: 1.68]\n",
      "Stock: [name: AddLife B, closing_value: 27, latest: 38,\n",
      " last_updated: 2017-01-02, percent: 40.74]\n",
      "Stock: [name: SSAB B, closing_value: 221, latest: 209,\n",
      " last_updated: 2017-01-02, percent: -5.43]\n",
      "Stock: [name: 8TRA, closing_value: 226, latest: 225,\n",
      " last_updated: 2017-01-02, percent: -0.44]\n",
      "{'Date': '2017-01-02 12:03:09', 'Kod': 'NCC', 'Kurs': '121'}\n",
      "{'AddLife B', '8TRA', 'ABB', 'SSAB B', 'NCC'}\n",
      "set()\n",
      "[{'Date': '2017-01-01 12:00:00', 'Kod': 'ABB', 'Kurs': '217'}, {'Date': '2017-01-01 12:00:01', 'Kod': 'NCC', 'Kurs': '122'}, {'Date': '2017-01-01 12:00:02', 'Kod': 'ABB', 'Kurs': '218'}, {'Date': '2017-01-01 12:00:03', 'Kod': 'NCC', 'Kurs': '123'}, {'Date': '2017-01-01 12:00:04', 'Kod': 'NCC', 'Kurs': '121'}, {'Date': '2017-01-01 12:00:05', 'Kod': 'AddLife B', 'Kurs': '21'}, {'Date': '2017-01-01 12:00:06', 'Kod': 'NCC', 'Kurs': '121'}, {'Date': '2017-01-01 12:00:06', 'Kod': 'SSAB B', 'Kurs': '221'}, {'Date': '2017-01-01 12:01:04', 'Kod': '8TRA', 'Kurs': '226'}, {'Date': '2017-01-01 12:01:05', 'Kod': 'AddLife B', 'Kurs': '27'}, {'Date': '2017-01-01 12:01:06', 'Kod': 'NCC', 'Kurs': '119'}, {'Date': '2017-01-01 12:01:07', 'Kod': 'ABB', 'Kurs': '219'}, {'Date': '2017-01-02 12:00:07', 'Kod': 'ABB', 'Kurs': '222'}, {'Date': '2017-01-02 12:00:08', 'Kod': 'NCC', 'Kurs': '117'}, {'Date': '2017-01-02 12:00:09', 'Kod': 'NCC', 'Kurs': '116'}, {'Date': '2017-01-02 12:00:10', 'Kod': '8TRA', 'Kurs': '225'}, {'Date': '2017-01-02 12:00:23', 'Kod': 'SSAB B', 'Kurs': '209'}, {'Date': '2017-01-02 12:01:10', 'Kod': 'AddLife B', 'Kurs': '38'}, {'Date': '2017-01-02 12:01:09', 'Kod': 'NCC', 'Kurs': '116'}, {'Date': '2017-01-02 12:02:09', 'Kod': 'NCC', 'Kurs': '118'}, {'Date': '2017-01-02 12:03:09', 'Kod': 'NCC', 'Kurs': '121'}]\n",
      "A\n"
     ]
    }
   ],
   "source": [
    "print(len(stocks))\n",
    "for stock in stocks:\n",
    "    print(stock)\n",
    "#print(stocks[0])\n",
    "unique_stocks = {stock.name for stock in stocks}\n",
    "list_ = []\n",
    "uni_list = {stock.name for stock in list_}\n",
    "print(row)\n",
    "print(unique_stocks)\n",
    "print(uni_list)\n",
    "print(data)\n",
    "\n",
    "if 'ABB' in unique_stocks:\n",
    "    print(\"A\")\n",
    "if 'ABB' in uni_list:\n",
    "    print(\"B\")"
   ]
  },
  {
   "cell_type": "code",
   "execution_count": 100,
   "metadata": {},
   "outputs": [
    {
     "name": "stdout",
     "output_type": "stream",
     "text": [
      "{'rank': 1, 'name': 'AddLife B', 'latest': 38, 'percent': 40.74074074074073}\n",
      "{'rank': 2, 'name': 'NCC', 'latest': 121, 'percent': 1.680672268907557}\n",
      "{'rank': 3, 'name': 'ABB', 'latest': 222, 'percent': 1.3698630136986338}\n"
     ]
    }
   ],
   "source": [
    "def get_winners(stocks, number_of_winners=3):\n",
    "    sorted_stocks = sorted(stocks, key=lambda x: x.percent, reverse=True)\n",
    "    winners = []\n",
    "    for ind, win in enumerate(sorted_stocks[:number_of_winners]):\n",
    "        tmp_dict = {}\n",
    "        tmp_dict['rank'] = ind+1\n",
    "        tmp_dict.update(win.to_dict(\"name\", \"latest\", \"percent\"))\n",
    "        winners.append(tmp_dict)\n",
    "        #print(win.__dict__)\n",
    "    return winners\n",
    "\n",
    "winners = get_winners(stocks)\n",
    "for w in winners:\n",
    "    print(w)\n",
    "#print(winners)\n"
   ]
  },
  {
   "cell_type": "code",
   "execution_count": 57,
   "metadata": {},
   "outputs": [
    {
     "name": "stdout",
     "output_type": "stream",
     "text": [
      "2017-01-02\n",
      "2016-12-31\n",
      "2017-01-02\n",
      "True\n",
      "True\n"
     ]
    }
   ],
   "source": [
    "a = datetime(year=2017, month=1, day=2)\n",
    "b = datetime(year=2016, month=12, day=31)\n",
    "print(a.date())\n",
    "print(datetime(year=2016, month=12, day=31).date())\n",
    "print(datetime_obj.date())\n",
    "print(datetime_obj.date()>b.date())\n",
    "print(datetime_obj.date()==a.date())"
   ]
  },
  {
   "cell_type": "code",
   "execution_count": null,
   "metadata": {},
   "outputs": [],
   "source": [
    "\n",
    "if row['Kod'] in unique_stocks:\n",
    "    print(\"HEJ\")\n",
    "row.update(Kod='AAA')\n",
    "if row['Kod'] in unique_stocks:\n",
    "    print(\"HEJ\")"
   ]
  },
  {
   "cell_type": "code",
   "execution_count": 19,
   "metadata": {},
   "outputs": [
    {
     "name": "stdout",
     "output_type": "stream",
     "text": [
      "True\n"
     ]
    }
   ],
   "source": [
    "print(isinstance(row, dict))"
   ]
  },
  {
   "cell_type": "code",
   "execution_count": null,
   "metadata": {},
   "outputs": [],
   "source": []
  }
 ],
 "metadata": {
  "kernelspec": {
   "display_name": ".env",
   "language": "python",
   "name": "python3"
  },
  "language_info": {
   "codemirror_mode": {
    "name": "ipython",
    "version": 3
   },
   "file_extension": ".py",
   "mimetype": "text/x-python",
   "name": "python",
   "nbconvert_exporter": "python",
   "pygments_lexer": "ipython3",
   "version": "3.9.13"
  }
 },
 "nbformat": 4,
 "nbformat_minor": 2
}
